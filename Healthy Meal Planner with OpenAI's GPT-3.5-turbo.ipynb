{
 "cells": [
  {
   "cell_type": "markdown",
   "id": "001e3566",
   "metadata": {},
   "source": [
    "# Healthy Meal Planner with OpenAI's GPT-3.5-turbo"
   ]
  },
  {
   "cell_type": "code",
   "execution_count": 1,
   "id": "aeda7395",
   "metadata": {},
   "outputs": [],
   "source": [
    "import openai\n",
    "import os\n",
    "import requests\n",
    "import shutil"
   ]
  },
  {
   "cell_type": "code",
   "execution_count": 2,
   "id": "73ce2f6e",
   "metadata": {},
   "outputs": [],
   "source": [
    "os.environ['OPENAI_API_KEY'] = 'your api key'     #paste your api key here\n",
    "openai.api_key = os.getenv('OPENAI_API_KEY')"
   ]
  },
  {
   "cell_type": "code",
   "execution_count": 3,
   "id": "b5be01b7",
   "metadata": {},
   "outputs": [],
   "source": [
    "from openai import OpenAI\n",
    "client = OpenAI()"
   ]
  },
  {
   "cell_type": "code",
   "execution_count": 8,
   "id": "45b19c7d",
   "metadata": {},
   "outputs": [
    {
     "name": "stdout",
     "output_type": "stream",
     "text": [
      "Enter the ingredients (comma-separated): eggs, chicken, oats, milk, almond, peanut butter, rice, quinoa, beans\n",
      "Enter the total calories limit: 2500\n",
      "Breakfast: Protein-Packed Egg and Oatmeal Bowl \n",
      "\n",
      "Ingredients:\n",
      "- 2 eggs\n",
      "- 1/2 cup oats\n",
      "- 1 cup milk\n",
      "- Almonds (for topping)\n",
      "\n",
      "Instructions:\n",
      "1. In a saucepan, bring the milk to a simmer over medium heat.\n",
      "2. Add oats and cook until thickened, stirring occasionally.\n",
      "3. In a separate pan, fry the eggs to your desired doneness.\n",
      "4. Serve the oatmeal in a bowl, top with fried eggs and a sprinkle of chopped almonds.\n",
      "\n",
      "Calories: Approx. 450\n",
      "\n",
      "Lunch: Quinoa and Chicken Salad\n",
      "\n",
      "Ingredients:\n",
      "- 1 cup cooked quinoa\n",
      "- Grilled chicken breast, sliced\n",
      "- Mixed greens\n",
      "- 1/4 cup beans (any variety)\n",
      "- Dressing of choice (suggest olive oil and lemon)\n",
      "\n",
      "Instructions:\n",
      "1. In a bowl, combine the cooked quinoa, sliced grilled chicken, mixed greens, and beans.\n",
      "2. Drizzle with your dressing of choice and toss to combine.\n",
      "\n",
      "Calories: Approx. 600\n",
      "\n",
      "Dinner: Peanut Butter Chicken Stir-Fry\n",
      "\n",
      "Ingredients:\n",
      "- Cooked rice (suggested 1 cup)\n",
      "- 1 chicken breast, thinly sliced\n",
      "- 2 tablespoons peanut butter\n",
      "- Mixed vegetables (such as bell peppers, broccoli, and snap peas)\n",
      "\n",
      "Instructions:\n",
      "1. In a pan, sauté the sliced chicken until cooked through.\n",
      "2. Add in the mixed vegetables and stir-fry until tender-crisp.\n",
      "3. Stir in the peanut butter until all ingredients are coated.\n",
      "4. Serve the stir-fry over cooked rice.\n",
      "\n",
      "Calories: Approx. 750\n",
      "\n",
      "Title: Protein-Packed Egg and Oatmeal Bowl\n",
      "Title: Quinoa and Chicken Salad\n",
      "Title: Peanut Butter Chicken Stir-Fry\n"
     ]
    }
   ],
   "source": [
    "def meals(ing, cal=2000):\n",
    "    prompt = f'''Create a healthy meal for breakfast, lunch and dinner based on the following ingredients {ing}.\n",
    "    Explain each recipe. The total calories should be less than {cal}.\n",
    "    Assign a suggestive and concise title to each meal.\n",
    "    At the bottom of your answer, write 'Title: ' and the title of each recipe.\n",
    "    '''\n",
    "    \n",
    "    messages = [\n",
    "        {'role': 'system', 'content': 'You are a talented cook'},\n",
    "        {'role': 'user', 'content': prompt}\n",
    "    ]\n",
    "    \n",
    "    response = client.chat.completions.create(\n",
    "        model='gpt-3.5-turbo',\n",
    "        messages=messages,\n",
    "        max_tokens=1020,\n",
    "        temperature=1,\n",
    "        n=1\n",
    "    )\n",
    "    return response.choices[0].message.content\n",
    "\n",
    "# Get user input for ingredients and total calories\n",
    "ing = input(\"Enter the ingredients (comma-separated): \")\n",
    "cal = input(\"Enter the total calories limit: \")\n",
    "\n",
    "try:\n",
    "    cal = int(cal)\n",
    "except ValueError:\n",
    "    print(\"Invalid calorie input. Using default value of 2000.\")\n",
    "    cal = 2000\n",
    "\n",
    "# Generate and print the meal plan\n",
    "output = meals(ing, cal)\n",
    "print(output)\n"
   ]
  },
  {
   "cell_type": "code",
   "execution_count": null,
   "id": "25b60993",
   "metadata": {},
   "outputs": [],
   "source": []
  }
 ],
 "metadata": {
  "kernelspec": {
   "display_name": "Python 3 (ipykernel)",
   "language": "python",
   "name": "python3"
  },
  "language_info": {
   "codemirror_mode": {
    "name": "ipython",
    "version": 3
   },
   "file_extension": ".py",
   "mimetype": "text/x-python",
   "name": "python",
   "nbconvert_exporter": "python",
   "pygments_lexer": "ipython3",
   "version": "3.11.4"
  }
 },
 "nbformat": 4,
 "nbformat_minor": 5
}
